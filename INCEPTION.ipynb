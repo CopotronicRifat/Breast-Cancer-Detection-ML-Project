{
  "nbformat": 4,
  "nbformat_minor": 0,
  "metadata": {
    "colab": {
      "provenance": [],
      "authorship_tag": "ABX9TyNl1hBmPxw6yY6gc5ozxKda",
      "include_colab_link": true
    },
    "kernelspec": {
      "name": "python3",
      "display_name": "Python 3"
    },
    "language_info": {
      "name": "python"
    }
  },
  "cells": [
    {
      "cell_type": "markdown",
      "metadata": {
        "id": "view-in-github",
        "colab_type": "text"
      },
      "source": [
        "<a href=\"https://colab.research.google.com/github/CopotronicRifat/Breast-Cancer-Detection-ML-Project/blob/main/INCEPTION.ipynb\" target=\"_parent\"><img src=\"https://colab.research.google.com/assets/colab-badge.svg\" alt=\"Open In Colab\"/></a>"
      ]
    },
    {
      "cell_type": "code",
      "execution_count": 1,
      "metadata": {
        "id": "ICrO4fNbXoaV"
      },
      "outputs": [],
      "source": [
        "import tensorflow as tf\n",
        "from tensorflow.keras.layers import Input, Conv2D, MaxPooling2D, concatenate, Dropout, Flatten, Dense\n",
        "\n",
        "def inception_module(input_layer, filters):\n",
        "    tower1 = Conv2D(filters=filters[0], kernel_size=(1,1), padding='same', activation='relu')(input_layer)\n",
        "    tower1 = Conv2D(filters=filters[1], kernel_size=(3,3), padding='same', activation='relu')(tower1)\n",
        "\n",
        "    tower2 = Conv2D(filters=filters[2], kernel_size=(1,1), padding='same', activation='relu')(input_layer)\n",
        "    tower2 = Conv2D(filters=filters[3], kernel_size=(5,5), padding='same', activation='relu')(tower2)\n",
        "\n",
        "    tower3 = MaxPooling2D(pool_size=(3,3), strides=(1,1), padding='same')(input_layer)\n",
        "    tower3 = Conv2D(filters=filters[4], kernel_size=(1,1), padding='same', activation='relu')(tower3)\n",
        "\n",
        "    output = concatenate([tower1, tower2, tower3], axis=3)\n",
        "    return output\n",
        "\n",
        "input_layer = Input(shape=(224, 224, 3))\n",
        "\n",
        "x = Conv2D(filters=64, kernel_size=(7,7), strides=(2,2), padding='same', activation='relu')(input_layer)\n",
        "x = MaxPooling2D(pool_size=(3,3), strides=(2,2), padding='same')(x)\n",
        "\n",
        "x = Conv2D(filters=64, kernel_size=(1,1), padding='same', activation='relu')(x)\n",
        "x = Conv2D(filters=192, kernel_size=(3,3), padding='same', activation='relu')(x)\n",
        "x = MaxPooling2D(pool_size=(3,3), strides=(2,2), padding='same')(x)\n",
        "\n",
        "x = inception_module(x, filters=[64, 96, 128, 16, 32])\n",
        "x = inception_module(x, filters=[128, 128, 192, 32, 96])\n",
        "x = MaxPooling2D(pool_size=(3,3), strides=(2,2), padding='same')(x)\n",
        "\n",
        "x = inception_module(x, filters=[192, 96, 208, 16, 48])\n",
        "x = inception_module(x, filters=[160, 112, 224, 24, 64])\n",
        "x = inception_module(x, filters=[128, 128, 256, 24, 64])\n",
        "x = inception_module(x, filters=[112, 144, 288, 32, 64])\n",
        "x = inception_module(x, filters=[256, 160, 320, 32, 128])\n",
        "x = MaxPooling2D(pool_size=(3,3), strides=(2,2), padding='same')(x)\n",
        "\n",
        "x = inception_module(x, filters=[256, 160, 320, 32, 128])\n",
        "x = inception_module(x, filters=[384, 192, 384, 48, 128])\n",
        "\n",
        "x = Flatten()(x)\n",
        "x = Dropout(0.4)(x)\n",
        "output_layer = Dense(units=1000, activation='softmax')(x)\n",
        "\n",
        "model = tf.keras.Model(inputs=input_layer, outputs=output_layer)\n"
      ]
    }
  ]
}